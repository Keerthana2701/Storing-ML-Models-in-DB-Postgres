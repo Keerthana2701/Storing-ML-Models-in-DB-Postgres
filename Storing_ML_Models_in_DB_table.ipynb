{
  "nbformat": 4,
  "nbformat_minor": 0,
  "metadata": {
    "colab": {
      "name": "Storing ML Models in DB table.ipynb",
      "provenance": [],
      "collapsed_sections": []
    },
    "kernelspec": {
      "name": "python3",
      "display_name": "Python 3"
    },
    "language_info": {
      "name": "python"
    }
  },
  "cells": [
    {
      "cell_type": "code",
      "metadata": {
        "id": "LbyT_Jslqy64"
      },
      "source": [
        "!sudo apt-get -y -qq update   # to ensure all packages in linux environments are up to date\n"
      ],
      "execution_count": 1,
      "outputs": []
    },
    {
      "cell_type": "code",
      "metadata": {
        "colab": {
          "base_uri": "https://localhost:8080/"
        },
        "id": "NRAn6lgVrDgg",
        "outputId": "1fe6a5fd-9ce9-48b2-a31d-1360080620b6"
      },
      "source": [
        "!sudo apt-get -y -qq install postgresql  # installing postgres sql db \n"
      ],
      "execution_count": 2,
      "outputs": [
        {
          "output_type": "stream",
          "name": "stdout",
          "text": [
            "debconf: unable to initialize frontend: Dialog\n",
            "debconf: (No usable dialog-like program is installed, so the dialog based frontend cannot be used. at /usr/share/perl5/Debconf/FrontEnd/Dialog.pm line 76, <> line 10.)\n",
            "debconf: falling back to frontend: Readline\n",
            "debconf: unable to initialize frontend: Readline\n",
            "debconf: (This frontend requires a controlling tty.)\n",
            "debconf: falling back to frontend: Teletype\n",
            "dpkg-preconfigure: unable to re-open stdin: \n",
            "Selecting previously unselected package cron.\n",
            "(Reading database ... 148492 files and directories currently installed.)\n",
            "Preparing to unpack .../0-cron_3.0pl1-128.1ubuntu1_amd64.deb ...\n",
            "Unpacking cron (3.0pl1-128.1ubuntu1) ...\n",
            "Selecting previously unselected package logrotate.\n",
            "Preparing to unpack .../1-logrotate_3.11.0-0.1ubuntu1_amd64.deb ...\n",
            "Unpacking logrotate (3.11.0-0.1ubuntu1) ...\n",
            "Selecting previously unselected package netbase.\n",
            "Preparing to unpack .../2-netbase_5.4_all.deb ...\n",
            "Unpacking netbase (5.4) ...\n",
            "Selecting previously unselected package postgresql-client-common.\n",
            "Preparing to unpack .../3-postgresql-client-common_190ubuntu0.1_all.deb ...\n",
            "Unpacking postgresql-client-common (190ubuntu0.1) ...\n",
            "Selecting previously unselected package postgresql-client-10.\n",
            "Preparing to unpack .../4-postgresql-client-10_10.18-0ubuntu0.18.04.1_amd64.deb ...\n",
            "Unpacking postgresql-client-10 (10.18-0ubuntu0.18.04.1) ...\n",
            "Selecting previously unselected package ssl-cert.\n",
            "Preparing to unpack .../5-ssl-cert_1.0.39_all.deb ...\n",
            "Unpacking ssl-cert (1.0.39) ...\n",
            "Selecting previously unselected package postgresql-common.\n",
            "Preparing to unpack .../6-postgresql-common_190ubuntu0.1_all.deb ...\n",
            "Adding 'diversion of /usr/bin/pg_config to /usr/bin/pg_config.libpq-dev by postgresql-common'\n",
            "Unpacking postgresql-common (190ubuntu0.1) ...\n",
            "Selecting previously unselected package postgresql-10.\n",
            "Preparing to unpack .../7-postgresql-10_10.18-0ubuntu0.18.04.1_amd64.deb ...\n",
            "Unpacking postgresql-10 (10.18-0ubuntu0.18.04.1) ...\n",
            "Selecting previously unselected package postgresql.\n",
            "Preparing to unpack .../8-postgresql_10+190ubuntu0.1_all.deb ...\n",
            "Unpacking postgresql (10+190ubuntu0.1) ...\n",
            "Selecting previously unselected package sysstat.\n",
            "Preparing to unpack .../9-sysstat_11.6.1-1ubuntu0.1_amd64.deb ...\n",
            "Unpacking sysstat (11.6.1-1ubuntu0.1) ...\n",
            "Setting up sysstat (11.6.1-1ubuntu0.1) ...\n",
            "debconf: unable to initialize frontend: Dialog\n",
            "debconf: (No usable dialog-like program is installed, so the dialog based frontend cannot be used. at /usr/share/perl5/Debconf/FrontEnd/Dialog.pm line 76.)\n",
            "debconf: falling back to frontend: Readline\n",
            "\n",
            "Creating config file /etc/default/sysstat with new version\n",
            "update-alternatives: using /usr/bin/sar.sysstat to provide /usr/bin/sar (sar) in auto mode\n",
            "Created symlink /etc/systemd/system/multi-user.target.wants/sysstat.service → /lib/systemd/system/sysstat.service.\n",
            "Setting up ssl-cert (1.0.39) ...\n",
            "debconf: unable to initialize frontend: Dialog\n",
            "debconf: (No usable dialog-like program is installed, so the dialog based frontend cannot be used. at /usr/share/perl5/Debconf/FrontEnd/Dialog.pm line 76.)\n",
            "debconf: falling back to frontend: Readline\n",
            "Setting up cron (3.0pl1-128.1ubuntu1) ...\n",
            "Adding group `crontab' (GID 110) ...\n",
            "Done.\n",
            "Created symlink /etc/systemd/system/multi-user.target.wants/cron.service → /lib/systemd/system/cron.service.\n",
            "update-rc.d: warning: start and stop actions are no longer supported; falling back to defaults\n",
            "invoke-rc.d: could not determine current runlevel\n",
            "invoke-rc.d: policy-rc.d denied execution of start.\n",
            "Setting up logrotate (3.11.0-0.1ubuntu1) ...\n",
            "Setting up netbase (5.4) ...\n",
            "Setting up postgresql-client-common (190ubuntu0.1) ...\n",
            "Setting up postgresql-common (190ubuntu0.1) ...\n",
            "debconf: unable to initialize frontend: Dialog\n",
            "debconf: (No usable dialog-like program is installed, so the dialog based frontend cannot be used. at /usr/share/perl5/Debconf/FrontEnd/Dialog.pm line 76.)\n",
            "debconf: falling back to frontend: Readline\n",
            "Adding user postgres to group ssl-cert\n",
            "\n",
            "Creating config file /etc/postgresql-common/createcluster.conf with new version\n",
            "Building PostgreSQL dictionaries from installed myspell/hunspell packages...\n",
            "Removing obsolete dictionary files:\n",
            "Created symlink /etc/systemd/system/multi-user.target.wants/postgresql.service → /lib/systemd/system/postgresql.service.\n",
            "invoke-rc.d: could not determine current runlevel\n",
            "invoke-rc.d: policy-rc.d denied execution of start.\n",
            "Setting up postgresql-client-10 (10.18-0ubuntu0.18.04.1) ...\n",
            "update-alternatives: using /usr/share/postgresql/10/man/man1/psql.1.gz to provide /usr/share/man/man1/psql.1.gz (psql.1.gz) in auto mode\n",
            "Setting up postgresql-10 (10.18-0ubuntu0.18.04.1) ...\n",
            "debconf: unable to initialize frontend: Dialog\n",
            "debconf: (No usable dialog-like program is installed, so the dialog based frontend cannot be used. at /usr/share/perl5/Debconf/FrontEnd/Dialog.pm line 76.)\n",
            "debconf: falling back to frontend: Readline\n",
            "Creating new PostgreSQL cluster 10/main ...\n",
            "/usr/lib/postgresql/10/bin/initdb -D /var/lib/postgresql/10/main --auth-local peer --auth-host md5\n",
            "The files belonging to this database system will be owned by user \"postgres\".\n",
            "This user must also own the server process.\n",
            "\n",
            "The database cluster will be initialized with locale \"en_US.UTF-8\".\n",
            "The default database encoding has accordingly been set to \"UTF8\".\n",
            "The default text search configuration will be set to \"english\".\n",
            "\n",
            "Data page checksums are disabled.\n",
            "\n",
            "fixing permissions on existing directory /var/lib/postgresql/10/main ... ok\n",
            "creating subdirectories ... ok\n",
            "selecting default max_connections ... 100\n",
            "selecting default shared_buffers ... 128MB\n",
            "selecting default timezone ... Etc/UTC\n",
            "selecting dynamic shared memory implementation ... posix\n",
            "creating configuration files ... ok\n",
            "running bootstrap script ... ok\n",
            "performing post-bootstrap initialization ... ok\n",
            "syncing data to disk ... ok\n",
            "\n",
            "Success. You can now start the database server using:\n",
            "\n",
            "    /usr/lib/postgresql/10/bin/pg_ctl -D /var/lib/postgresql/10/main -l logfile start\n",
            "\n",
            "Ver Cluster Port Status Owner    Data directory              Log file\n",
            "\u001b[31m10  main    5432 down   postgres /var/lib/postgresql/10/main /var/log/postgresql/postgresql-10-main.log\u001b[0m\n",
            "update-alternatives: using /usr/share/postgresql/10/man/man1/postmaster.1.gz to provide /usr/share/man/man1/postmaster.1.gz (postmaster.1.gz) in auto mode\n",
            "invoke-rc.d: could not determine current runlevel\n",
            "invoke-rc.d: policy-rc.d denied execution of start.\n",
            "Setting up postgresql (10+190ubuntu0.1) ...\n",
            "Processing triggers for man-db (2.8.3-2ubuntu0.1) ...\n",
            "Processing triggers for systemd (237-3ubuntu10.51) ...\n"
          ]
        }
      ]
    },
    {
      "cell_type": "code",
      "metadata": {
        "colab": {
          "base_uri": "https://localhost:8080/"
        },
        "id": "qJ3NYvWfrXdE",
        "outputId": "80335837-ede4-4051-9442-a74d2f190d8e"
      },
      "source": [
        "!sudo service postgresql start   # start postgres SQL service\n"
      ],
      "execution_count": 3,
      "outputs": [
        {
          "output_type": "stream",
          "name": "stdout",
          "text": [
            " * Starting PostgreSQL 10 database server\n",
            "   ...done.\n"
          ]
        }
      ]
    },
    {
      "cell_type": "code",
      "metadata": {
        "colab": {
          "base_uri": "https://localhost:8080/"
        },
        "id": "3yZyQ_0ZraQp",
        "outputId": "604a39af-ede4-48b7-fb43-4f985b03663d"
      },
      "source": [
        "!sudo -u postgres psql -U postgres -c \"ALTER USER postgres PASSWORD 'postgres';\" # setting password as postgres ans username as postgres\n"
      ],
      "execution_count": 6,
      "outputs": [
        {
          "output_type": "stream",
          "name": "stdout",
          "text": [
            "ALTER ROLE\n"
          ]
        }
      ]
    },
    {
      "cell_type": "code",
      "metadata": {
        "colab": {
          "base_uri": "https://localhost:8080/"
        },
        "id": "2SwQ3zuWrfkV",
        "outputId": "f88c0b3d-e953-4ec9-8ab5-b962ab82cc3f"
      },
      "source": [
        "!sudo -u postgres psql -U postgres -c 'DROP DATABASE IF EXISTS futurex;' # drop database named futurex if it exists\n"
      ],
      "execution_count": 7,
      "outputs": [
        {
          "output_type": "stream",
          "name": "stdout",
          "text": [
            "NOTICE:  database \"futurex\" does not exist, skipping\n",
            "DROP DATABASE\n"
          ]
        }
      ]
    },
    {
      "cell_type": "code",
      "metadata": {
        "colab": {
          "base_uri": "https://localhost:8080/"
        },
        "id": "O8oCp5tqrv9w",
        "outputId": "13a7ca34-4356-48a8-c44d-25b430e77639"
      },
      "source": [
        "!sudo -u postgres psql -U postgres -c 'CREATE DATABASE futurex;' # create database futurex\n"
      ],
      "execution_count": 8,
      "outputs": [
        {
          "output_type": "stream",
          "name": "stdout",
          "text": [
            "CREATE DATABASE\n"
          ]
        }
      ]
    },
    {
      "cell_type": "code",
      "metadata": {
        "colab": {
          "base_uri": "https://localhost:8080/"
        },
        "id": "l13Yykg9r1ta",
        "outputId": "778eede0-bab6-456e-9396-efe4869287b9"
      },
      "source": [
        "!PGPASSWORD=postgres psql -q -h localhost -p 5432 -U postgres -d futurex -f create_model_table.sql\n",
        "# give localhost default port number and give password and table name which is text file created and call that file uplaoded in colab\n"
      ],
      "execution_count": 9,
      "outputs": [
        {
          "output_type": "stream",
          "name": "stdout",
          "text": [
            "psql:create_model_table.sql:1: NOTICE:  table \"futurex_model_catalog\" does not exist, skipping\n"
          ]
        }
      ]
    },
    {
      "cell_type": "code",
      "metadata": {
        "colab": {
          "base_uri": "https://localhost:8080/"
        },
        "id": "XxH2ZjKisohf",
        "outputId": "8ab454d3-2da7-487c-e24a-dc36ab7db8d9"
      },
      "source": [
        "import psycopg2  # library to interact with postgressql from python , in colab it is already available\n"
      ],
      "execution_count": 10,
      "outputs": [
        {
          "output_type": "stream",
          "name": "stderr",
          "text": [
            "/usr/local/lib/python3.7/dist-packages/psycopg2/__init__.py:144: UserWarning: The psycopg2 wheel package will be renamed from release 2.8; in order to keep installing from binary please use \"pip install psycopg2-binary\" instead. For details see: <http://initd.org/psycopg/docs/install.html#binary-install-from-pypi>.\n",
            "  \"\"\")\n"
          ]
        }
      ]
    },
    {
      "cell_type": "code",
      "metadata": {
        "id": "VeSaSUZws1OU"
      },
      "source": [
        "connection = psycopg2.connect(user='postgres',\n",
        "                              password='postgres',\n",
        "                              host='localhost',\n",
        "                              database='futurex')"
      ],
      "execution_count": 11,
      "outputs": []
    },
    {
      "cell_type": "code",
      "metadata": {
        "id": "nCJXEpgas_AH"
      },
      "source": [
        "cursor = connection.cursor() # using cursor to execute queries\n"
      ],
      "execution_count": 12,
      "outputs": []
    },
    {
      "cell_type": "code",
      "metadata": {
        "id": "PqsSf00ltBhM"
      },
      "source": [
        "select_query = \"select * from futurex_model_catalog\"\n"
      ],
      "execution_count": 13,
      "outputs": []
    },
    {
      "cell_type": "code",
      "metadata": {
        "id": "jhe9_uQvtEjQ"
      },
      "source": [
        "cursor.execute(select_query)  # cursor is used to execute the query"
      ],
      "execution_count": 15,
      "outputs": []
    },
    {
      "cell_type": "code",
      "metadata": {
        "id": "iMDoqQXntID1"
      },
      "source": [
        "models = cursor.fetchall()\n"
      ],
      "execution_count": 16,
      "outputs": []
    },
    {
      "cell_type": "code",
      "metadata": {
        "colab": {
          "base_uri": "https://localhost:8080/"
        },
        "id": "ZzUA_ZyatO82",
        "outputId": "f942dd48-e56b-4f6e-9182-107ce7c10248"
      },
      "source": [
        "models"
      ],
      "execution_count": 17,
      "outputs": [
        {
          "output_type": "execute_result",
          "data": {
            "text/plain": [
              "[]"
            ]
          },
          "metadata": {},
          "execution_count": 17
        }
      ]
    },
    {
      "cell_type": "code",
      "metadata": {
        "colab": {
          "base_uri": "https://localhost:8080/"
        },
        "id": "XGuzqRE9tQuQ",
        "outputId": "8350b9f0-7a39-4482-e7cb-008df02cd709"
      },
      "source": [
        "#create a model\n",
        "import numpy as np\n",
        "import pandas as pd\n",
        "training_data = pd.read_csv('storepurchasedata.csv')\n",
        "X = training_data.iloc[:, :-1].values\n",
        "y = training_data.iloc[:,-1].values\n",
        "from sklearn.model_selection import train_test_split\n",
        "X_train, X_test, y_train, y_test = train_test_split(X, y, test_size =.20,random_state=0)\n",
        "\n",
        "from sklearn.preprocessing import StandardScaler\n",
        "sc = StandardScaler()\n",
        "X_train = sc.fit_transform(X_train)\n",
        "X_test = sc.transform(X_test)\n",
        "from sklearn.neighbors import KNeighborsClassifier\n",
        "# minkowski is for ecledian distance\n",
        "classifier = KNeighborsClassifier(n_neighbors = 5, metric = 'minkowski', p = 2)\n",
        "classifier.fit(X_train, y_train)"
      ],
      "execution_count": 18,
      "outputs": [
        {
          "output_type": "execute_result",
          "data": {
            "text/plain": [
              "KNeighborsClassifier(algorithm='auto', leaf_size=30, metric='minkowski',\n",
              "                     metric_params=None, n_jobs=None, n_neighbors=5, p=2,\n",
              "                     weights='uniform')"
            ]
          },
          "metadata": {},
          "execution_count": 18
        }
      ]
    },
    {
      "cell_type": "code",
      "metadata": {
        "colab": {
          "base_uri": "https://localhost:8080/"
        },
        "id": "OynyDLfItip7",
        "outputId": "79db598f-3065-4c59-85e1-9bbfcb8a54ab"
      },
      "source": [
        "y_pred = classifier.predict(X_test)\n",
        "y_prob = classifier.predict_proba(X_test)[:,1]\n",
        "\n",
        "from sklearn.metrics import confusion_matrix\n",
        "\n",
        "cm = confusion_matrix(y_test, y_pred)\n",
        "\n",
        "from sklearn.metrics import accuracy_score\n",
        "\n",
        "print(accuracy_score(y_test,y_pred))"
      ],
      "execution_count": 19,
      "outputs": [
        {
          "output_type": "stream",
          "name": "stdout",
          "text": [
            "0.875\n"
          ]
        }
      ]
    },
    {
      "cell_type": "code",
      "metadata": {
        "id": "6WdWq2iWtqmz"
      },
      "source": [
        "import pickle\n",
        "# pickle is used to convert to binary format\n",
        "pickle_classifier_string = pickle.dumps(classifier)   # writing to a local variable rather than saving in a file\n",
        "pickle_sc_string = pickle.dumps(sc)"
      ],
      "execution_count": 21,
      "outputs": []
    },
    {
      "cell_type": "code",
      "metadata": {
        "id": "YW5bsE19t3dT"
      },
      "source": [
        "model_insert_sql = \"INSERT INTO futurex_model_catalog VALUES(%s, %s, %s)\" \n",
        "# store pickle strings into postgres table here id,name, pickled binary string\n"
      ],
      "execution_count": 22,
      "outputs": []
    },
    {
      "cell_type": "code",
      "metadata": {
        "id": "LCUmzdJguCp9"
      },
      "source": [
        "insert_tuple = (1, 'classifier', pickle_classifier_string)\n"
      ],
      "execution_count": 23,
      "outputs": []
    },
    {
      "cell_type": "code",
      "metadata": {
        "id": "qHjcHjaeuHr_"
      },
      "source": [
        "cursor = connection.cursor()\n"
      ],
      "execution_count": 24,
      "outputs": []
    },
    {
      "cell_type": "code",
      "metadata": {
        "id": "L6yGvi1ZuJ1o"
      },
      "source": [
        "cursor.execute(model_insert_sql, insert_tuple)\n"
      ],
      "execution_count": 25,
      "outputs": []
    },
    {
      "cell_type": "code",
      "metadata": {
        "id": "zWyxmk7zuMDS"
      },
      "source": [
        "insert_tuple = (2, 'sc', pickle_sc_string)\n"
      ],
      "execution_count": 26,
      "outputs": []
    },
    {
      "cell_type": "code",
      "metadata": {
        "id": "hwrSu9wvuSd1"
      },
      "source": [
        "cursor.execute(model_insert_sql, insert_tuple)\n"
      ],
      "execution_count": 27,
      "outputs": []
    },
    {
      "cell_type": "code",
      "metadata": {
        "id": "wcgaOfL7uVTD"
      },
      "source": [
        "\n",
        "cursor.close()\n",
        "connection.commit()  #close cursor and commit the connection"
      ],
      "execution_count": 28,
      "outputs": []
    },
    {
      "cell_type": "code",
      "metadata": {
        "colab": {
          "base_uri": "https://localhost:8080/"
        },
        "id": "OmQWvRSvuYJg",
        "outputId": "2bb38a0d-04d5-4dad-ca50-97ab0a21b934"
      },
      "source": [
        "cursor = connection.cursor()\n",
        "select_query = \"select * from futurex_model_catalog\"\n",
        "models =cursor.execute(select_query)\n",
        "models = cursor.fetchall()\n",
        "models\n",
        "# Now the model is saved in DB. any application can access this model from this table and do prediciton."
      ],
      "execution_count": 29,
      "outputs": [
        {
          "output_type": "execute_result",
          "data": {
            "text/plain": [
              "[(1, 'classifier', <memory at 0x7fb192a6e460>),\n",
              " (2, 'sc', <memory at 0x7fb192a6e600>)]"
            ]
          },
          "metadata": {},
          "execution_count": 29
        }
      ]
    },
    {
      "cell_type": "code",
      "metadata": {
        "id": "whD5VeoGurCe"
      },
      "source": [
        "classifier_from_db = pickle.loads(models[0][2]) # read the binary string and load data into local varaibles\n",
        "scaler_from_db = pickle.loads(models[1][2])"
      ],
      "execution_count": 30,
      "outputs": []
    },
    {
      "cell_type": "code",
      "metadata": {
        "colab": {
          "base_uri": "https://localhost:8080/"
        },
        "id": "HZ8EYFW_vCJo",
        "outputId": "3c5f2385-58e4-4804-ee3c-93c5919fbdbf"
      },
      "source": [
        "# predict with age and salary values\n",
        "new_pred = classifier_from_db.predict(scaler_from_db.transform(np.array([[40,20000]])))\n",
        "\n",
        "new_pred_proba = classifier_from_db.predict_proba(scaler_from_db.transform(np.array([[40,20000]])))[:,1]\n",
        "print(new_pred)\n",
        "print(new_pred_proba)"
      ],
      "execution_count": 31,
      "outputs": [
        {
          "output_type": "stream",
          "name": "stdout",
          "text": [
            "[0]\n",
            "[0.2]\n"
          ]
        }
      ]
    },
    {
      "cell_type": "code",
      "metadata": {
        "colab": {
          "base_uri": "https://localhost:8080/"
        },
        "id": "ydSpge8HvKPr",
        "outputId": "cc369294-df8e-41fb-b388-46896d0b08c5"
      },
      "source": [
        "new_pred = classifier_from_db.predict(scaler_from_db.transform(np.array([[42,50000]])))\n",
        "\n",
        "new_pred_proba = classifier_from_db.predict_proba(scaler_from_db.transform(np.array([[42,50000]])))[:,1]\n",
        "print(new_pred)\n",
        "print(new_pred_proba)"
      ],
      "execution_count": 32,
      "outputs": [
        {
          "output_type": "stream",
          "name": "stdout",
          "text": [
            "[1]\n",
            "[0.8]\n"
          ]
        }
      ]
    },
    {
      "cell_type": "code",
      "metadata": {
        "id": "dOlPBwEHvOF0"
      },
      "source": [
        "#Models can be stored in DB and retrieved from other applications\n",
        "\n",
        "#also\n",
        "\n",
        "#predicitons can be stored in DB so that other applications directly takes the predictions"
      ],
      "execution_count": 34,
      "outputs": []
    },
    {
      "cell_type": "code",
      "metadata": {
        "id": "0YWcHjOoo_YY"
      },
      "source": [
        ""
      ],
      "execution_count": null,
      "outputs": []
    }
  ]
}